{
 "cells": [
  {
   "cell_type": "markdown",
   "id": "cc421d0e",
   "metadata": {},
   "source": [
    "## Testing testing\n",
    "March 14 11:34 PM"
   ]
  },
  {
   "cell_type": "markdown",
   "id": "67fc3654",
   "metadata": {},
   "source": [
    "shashank, Luis"
   ]
  },
  {
   "cell_type": "markdown",
   "id": "ad298001",
   "metadata": {},
   "source": []
  },
  {
   "cell_type": "markdown",
   "id": "c65bc635",
   "metadata": {},
   "source": []
  },
  {
   "cell_type": "markdown",
   "id": "3ec0d601",
   "metadata": {},
   "source": []
  },
  {
   "cell_type": "markdown",
   "id": "b0aac7d2",
   "metadata": {},
   "source": []
  }
 ],
 "metadata": {
  "kernelspec": {
   "display_name": "Python 3 (clean)",
   "language": "python",
   "name": "python3_clean"
  },
  "language_info": {
   "codemirror_mode": {
    "name": "ipython",
    "version": 3
   },
   "file_extension": ".py",
   "mimetype": "text/x-python",
   "name": "python",
   "nbconvert_exporter": "python",
   "pygments_lexer": "ipython3",
   "version": "3.9.5"
  }
 },
 "nbformat": 4,
 "nbformat_minor": 5
}

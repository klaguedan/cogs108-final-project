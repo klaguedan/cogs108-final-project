{
 "cells": [
  {
   "cell_type": "markdown",
   "metadata": {},
   "source": [
    "# Sleep and Academic Performance: An Analytical Study"
   ]
  },
  {
   "cell_type": "markdown",
   "metadata": {},
   "source": [
    "(COGS 108 Final Project)"
   ]
  },
  {
   "cell_type": "markdown",
   "metadata": {},
   "source": [
    "# Permissions\n",
    "\n",
    "Place an `X` in the appropriate bracket below to specify if you would like your group's project to be made available to the public. (Note that student names will be included (but PIDs will be scraped from any groups who include their PIDs).\n",
    "\n",
    "* [X] YES - make available\n",
    "* [  ] NO - keep private"
   ]
  },
  {
   "cell_type": "markdown",
   "metadata": {},
   "source": [
    "# Names\n",
    "\n",
    "- Jin Lee\n",
    "- Katrina Leanne Aguedan\n",
    "- Luis Pina\n",
    "- Shashank Thattai\n",
    "- Vincent Tu"
   ]
  },
  {
   "cell_type": "markdown",
   "metadata": {},
   "source": [
    "# Abstract\n",
    "\n",
    "\n",
    "---\n",
    "\n",
    "This analytical study examines the relationship between sleep patterns and academic performance among college students. Recognizing sleep as a critical component of health and cognitive function, the research aims to quantify the impact of various sleep-related factors, including duration, quality, and consistency, on students' academic achievements. A cross-sectional analysis of self-reported sleep habits and academic records from a diverse sample population provides the basis for this investigation. The study also explores the role of modern technology and social pressures in shaping sleep routines. Preliminary findings suggest a significant correlation between sufficient, high-quality sleep and higher academic performance, underscoring the importance of sleep education and policy reforms aimed at optimizing student health and learning outcomes. The implications of these findings are discussed in relation to current sleep guidelines and educational practices."
   ]
  },
  {
   "cell_type": "markdown",
   "metadata": {},
   "source": [
    "# Research Question"
   ]
  },
  {
   "cell_type": "markdown",
   "metadata": {},
   "source": [
    "How do sleep patterns, including factors such as duration, quality, and consistency impact college students' academic performance? Which factors, if any, are more impactful?"
   ]
  },
  {
   "cell_type": "markdown",
   "metadata": {},
   "source": [
    "## Background and Prior Work"
   ]
  },
  {
   "cell_type": "markdown",
   "metadata": {},
   "source": [
    "Sleep plays a crucial role in cognitive function, emotional well-being, and overall health. In this data science project, we aim to investigate how various dimensions of sleep patterns, including factors such as quality, duration, and consistency impact college students' academic performance.\n",
    "\n",
    "Sleep patterns comprises a range of variables, including the duration of sleep, the quality of sleep, the timing of sleep phases (such as rapid eye movement (REM) sleep and non-REM sleep), the sleep environment, and the regularity of sleep schedules. These factors can significantly influence an individual's cognitive abilities, mood regulation, and stress resilience, all of which are vital for academic success.\n",
    "\n",
    "For college students who  keep irregular schedules, academic pressures, and lifestyle factors that may disrupt sleep patterns, understanding the impact of sleep on academic performance and stress levels could help college students relieve stress and perform better academically. By analyzing large datasets comprising sleep data, academic records, and self-reported stress levels,we plan to discover patterns and correlations that show how sleep and academic outcomes among college students are tied together and changed through different factors.\n",
    "\n",
    "Some work that has been done is work that shows how a singular factor of sleep or the duration of sleep affects academic performance<sup><a href=\"#fn1\" id=\"ref1\">1</a></sup>. There was no relation between sleep measures on the single night before a test and test performance; instead, sleep duration and quality for the month and the week before a test correlated with better grades<sup><a href=\"#fn2\" id=\"ref2\">2</a></sup>.\n",
    "\n",
    "<br>\n",
    "\n",
    "<sup id=\"fn1\">1. https://www.ncbi.nlm.nih.gov/pmc/articles/PMC7381801/<a href=\"#ref1\" title=\"Jump back to footnote 1 in the text.\">↩</a></sup>\n",
    "\n",
    "<sup id=\"fn2\">2. https://www.nature.com/articles/s41539-019-0055-z<a href=\"#ref2\" title=\"Jump back to footnote 2 in the text.\">↩</a></sup>"
   ]
  },
  {
   "cell_type": "markdown",
   "metadata": {},
   "source": [
    "# Hypothesis\n"
   ]
  },
  {
   "cell_type": "markdown",
   "metadata": {},
   "source": [
    "College students who consistently achieve 7+ hours of high-quality sleep will achieve higher academic performance (as measured by GPA) compared to students with inconsistent sleep patterns of fewer than 6 hours of low-quality sleep per night."
   ]
  },
  {
   "cell_type": "markdown",
   "metadata": {},
   "source": [
    "# Data"
   ]
  },
  {
   "cell_type": "markdown",
   "metadata": {},
   "source": [
    "## Data overview\n",
    "\n",
    "- **Dataset #1:**\n",
    "  - Dataset Name: StudentLife \n",
    "  - Link to the dataset: https://studentlife.cs.dartmouth.edu/\n",
    "  - Number of observations: 30 (after cleaning)\n",
    "  - Number of variables: 6\n",
    "\n",
    "  \n",
    "- **Dataset #2:**\n",
    "  - Dataset Name: CSE Student Performances\n",
    "  - Link to the dataset: https://www.kaggle.com/datasets/mdismielhossenabir/psychosocial-dimensions-of-student-life\n",
    "  - Number of observations: 99\n",
    "  - Number of variables: 10\n",
    "\n",
    "<!-- Now write 2 - 5 sentences describing each dataset here. Include a short description of the important variables in the dataset; what the metrics and datatypes are, what concepts they may be proxies for.\n",
    " -->\n",
    " \n",
    "<br>\n",
    "\n",
    "**Data Summary**\n",
    "\n",
    "The *StudentLife dataset* is apart of a study on 48 Dartmouth students over 10 weeks tracking their mental health, academic performance and behavioral trends. The key variables we will be utilizing from this dataset for the gpa and sleep duration variables that were recorded during this study. The datatypes in this set are floats and strings. The concepts that this data set may be proxies for in our thesis statement is the cumulative gpa values associated with avg amount of hours of sleep per night data.\n",
    "\n",
    "The *CSE Student Performances* dataset is comprised of data from 100 computer science students tracking their class performance, their note taking tendencies, mental health status, the number of friends they have, sleep, and preferences for presentations and new things. The main variables we will be looking at is sleep hours which is given as an integer and class performance which is given as a categorical label (Excellent, Average, etc.). These data will be our proxies for academic performance and sleep duration.\n",
    "\n",
    "\n",
    "<br>\n",
    "\n",
    "**Data Cleaning Strategy**\n",
    "\n",
    "As a whole, the StudentLife Dataset is very large (5 GB) and the majority of the data collected did not concern this project.\n",
    "\n",
    "Taking a closer look, it was apparent that the data we wanted to look at (GPA, sleep) were not already grouped together within the same table. Luckily, the GPA data found in `grades.csv` were already in tidy data format. However, we saw that there were missing data since not all students had input their GPAs. Therefore, we must extract sleep data from only the students who filled out the GPA information.\n",
    "\n",
    "The data for sleep were in different `.json` files separated by student and the number of sleep logs completed was not consistent for each student. Thus, we will average the sleep data per student.\n",
    "\n",
    "Additionally, we found that the 'hours' column within each sleep file was the *response's option number* rather than the *actual hours slept*, so we will need to convert it using the response definitions provided within the StudentLife Dataset.\n",
    "\n",
    "Finally, we will need to join the two sets of data together so that each observation represents a single student and the columns are the GPAs, average sleep length, consistency of sleep length, and average rating of sleep.\n",
    "\n",
    "The resulting dataframe was smaller than we wanted so we merged it with the *CSE Student Performances* data."
   ]
  },
  {
   "cell_type": "markdown",
   "metadata": {},
   "source": [
    "## StudentLife Dataset"
   ]
  },
  {
   "cell_type": "markdown",
   "metadata": {},
   "source": [
    "Since the StudentLife Dataset measures a large amount of variables and data not relevant to our analysis, we extracted only the files pertaining to grades and sleep.\n",
    "\n",
    "Furthermore, in the grades.csv file, we noticed that not every student in the study had opted to share their GPA, and since knowing the GPAs were necessary, we only manually picked data for those students who had shared their GPA. Because of this, the pool of about 60 students has dwindled to about half.\n",
    "\n",
    "We felt that it was useful to convert the sleep data from JSON to CSV files (using https://data.page/json/csv) to tidy the data."
   ]
  },
  {
   "cell_type": "markdown",
   "metadata": {},
   "source": [
    "### Importing the Data"
   ]
  },
  {
   "cell_type": "code",
   "execution_count": 1,
   "metadata": {},
   "outputs": [],
   "source": [
    "# IMPORTING LIBRARIES\n",
    "import seaborn as sns\n",
    "sns.set(font_scale=2, style=\"white\")\n",
    "\n",
    "# import matplotlib\n",
    "import matplotlib as mpl\n",
    "import matplotlib.pyplot as plt\n",
    "import matplotlib.style as style\n",
    "# set plotting size parameter\n",
    "plt.rcParams['figure.figsize'] = (10, 7)\n",
    "\n",
    "# import pandas & numpy library\n",
    "import pandas as pd\n",
    "import numpy as np\n",
    "\n",
    "# Statmodels & patsy\n",
    "import patsy\n",
    "import statsmodels.api as sm"
   ]
  },
  {
   "cell_type": "code",
   "execution_count": 2,
   "metadata": {},
   "outputs": [
    {
     "data": {
      "text/html": [
       "<div>\n",
       "<style scoped>\n",
       "    .dataframe tbody tr th:only-of-type {\n",
       "        vertical-align: middle;\n",
       "    }\n",
       "\n",
       "    .dataframe tbody tr th {\n",
       "        vertical-align: top;\n",
       "    }\n",
       "\n",
       "    .dataframe thead th {\n",
       "        text-align: right;\n",
       "    }\n",
       "</style>\n",
       "<table border=\"1\" class=\"dataframe\">\n",
       "  <thead>\n",
       "    <tr style=\"text-align: right;\">\n",
       "      <th></th>\n",
       "      <th>uid</th>\n",
       "      <th>gpa all</th>\n",
       "      <th>gpa 13s</th>\n",
       "      <th>cs 65</th>\n",
       "    </tr>\n",
       "  </thead>\n",
       "  <tbody>\n",
       "    <tr>\n",
       "      <th>0</th>\n",
       "      <td>u01</td>\n",
       "      <td>2.863</td>\n",
       "      <td>1.777778</td>\n",
       "      <td>3.0</td>\n",
       "    </tr>\n",
       "    <tr>\n",
       "      <th>1</th>\n",
       "      <td>u02</td>\n",
       "      <td>3.505</td>\n",
       "      <td>4.000000</td>\n",
       "      <td>4.0</td>\n",
       "    </tr>\n",
       "    <tr>\n",
       "      <th>2</th>\n",
       "      <td>u04</td>\n",
       "      <td>3.029</td>\n",
       "      <td>3.500000</td>\n",
       "      <td>4.0</td>\n",
       "    </tr>\n",
       "    <tr>\n",
       "      <th>3</th>\n",
       "      <td>u05</td>\n",
       "      <td>3.679</td>\n",
       "      <td>3.777778</td>\n",
       "      <td>4.0</td>\n",
       "    </tr>\n",
       "    <tr>\n",
       "      <th>4</th>\n",
       "      <td>u07</td>\n",
       "      <td>3.474</td>\n",
       "      <td>4.000000</td>\n",
       "      <td>4.0</td>\n",
       "    </tr>\n",
       "  </tbody>\n",
       "</table>\n",
       "</div>"
      ],
      "text/plain": [
       "   uid   gpa all   gpa 13s   cs 65\n",
       "0  u01     2.863  1.777778     3.0\n",
       "1  u02     3.505  4.000000     4.0\n",
       "2  u04     3.029  3.500000     4.0\n",
       "3  u05     3.679  3.777778     4.0\n",
       "4  u07     3.474  4.000000     4.0"
      ]
     },
     "execution_count": 2,
     "metadata": {},
     "output_type": "execute_result"
    }
   ],
   "source": [
    "# LOADING GRADES\n",
    "studentlife = pd.read_csv('data/grades.csv')\n",
    "studentlife.head()"
   ]
  },
  {
   "cell_type": "markdown",
   "metadata": {},
   "source": [
    "#### Columns:\n",
    "- **uid:** Unique identifier for each student.\n",
    "- **gpa:** Cumulative GPA.\n",
    "- **gpa 13s:** Spring 2013 GPA.\n",
    "- **cs 65:** GPA in COSC 065 (Smartphone Programming at Dartmouth College)\n",
    "\n",
    "These column names will be renamed at the end of the data cleaning to be more descriptive."
   ]
  },
  {
   "cell_type": "code",
   "execution_count": 3,
   "metadata": {},
   "outputs": [
    {
     "data": {
      "text/html": [
       "<div>\n",
       "<style scoped>\n",
       "    .dataframe tbody tr th:only-of-type {\n",
       "        vertical-align: middle;\n",
       "    }\n",
       "\n",
       "    .dataframe tbody tr th {\n",
       "        vertical-align: top;\n",
       "    }\n",
       "\n",
       "    .dataframe thead th {\n",
       "        text-align: right;\n",
       "    }\n",
       "</style>\n",
       "<table border=\"1\" class=\"dataframe\">\n",
       "  <thead>\n",
       "    <tr style=\"text-align: right;\">\n",
       "      <th></th>\n",
       "      <th>hour</th>\n",
       "      <th>location</th>\n",
       "      <th>rate</th>\n",
       "      <th>null</th>\n",
       "      <th>resp_time</th>\n",
       "      <th>social</th>\n",
       "    </tr>\n",
       "  </thead>\n",
       "  <tbody>\n",
       "    <tr>\n",
       "      <th>0</th>\n",
       "      <td>NaN</td>\n",
       "      <td>NaN</td>\n",
       "      <td>NaN</td>\n",
       "      <td>8</td>\n",
       "      <td>1364118413</td>\n",
       "      <td>NaN</td>\n",
       "    </tr>\n",
       "    <tr>\n",
       "      <th>1</th>\n",
       "      <td>NaN</td>\n",
       "      <td>NaN</td>\n",
       "      <td>NaN</td>\n",
       "      <td>2</td>\n",
       "      <td>1364120311</td>\n",
       "      <td>NaN</td>\n",
       "    </tr>\n",
       "    <tr>\n",
       "      <th>2</th>\n",
       "      <td>NaN</td>\n",
       "      <td>NaN</td>\n",
       "      <td>NaN</td>\n",
       "      <td>43.70639796,-72.28700878</td>\n",
       "      <td>1364121002</td>\n",
       "      <td>NaN</td>\n",
       "    </tr>\n",
       "    <tr>\n",
       "      <th>3</th>\n",
       "      <td>NaN</td>\n",
       "      <td>NaN</td>\n",
       "      <td>NaN</td>\n",
       "      <td>9</td>\n",
       "      <td>1364119576</td>\n",
       "      <td>NaN</td>\n",
       "    </tr>\n",
       "    <tr>\n",
       "      <th>4</th>\n",
       "      <td>NaN</td>\n",
       "      <td>NaN</td>\n",
       "      <td>NaN</td>\n",
       "      <td>43.70639796,-72.28700878</td>\n",
       "      <td>1364122091</td>\n",
       "      <td>NaN</td>\n",
       "    </tr>\n",
       "    <tr>\n",
       "      <th>5</th>\n",
       "      <td>6.0</td>\n",
       "      <td>43.70517864,-72.29310913</td>\n",
       "      <td>2.0</td>\n",
       "      <td>NaN</td>\n",
       "      <td>1365011632</td>\n",
       "      <td>3.0</td>\n",
       "    </tr>\n",
       "  </tbody>\n",
       "</table>\n",
       "</div>"
      ],
      "text/plain": [
       "   hour                  location  rate                      null   resp_time  \\\n",
       "0   NaN                       NaN   NaN                         8  1364118413   \n",
       "1   NaN                       NaN   NaN                         2  1364120311   \n",
       "2   NaN                       NaN   NaN  43.70639796,-72.28700878  1364121002   \n",
       "3   NaN                       NaN   NaN                         9  1364119576   \n",
       "4   NaN                       NaN   NaN  43.70639796,-72.28700878  1364122091   \n",
       "5   6.0  43.70517864,-72.29310913   2.0                       NaN  1365011632   \n",
       "\n",
       "   social  \n",
       "0     NaN  \n",
       "1     NaN  \n",
       "2     NaN  \n",
       "3     NaN  \n",
       "4     NaN  \n",
       "5     3.0  "
      ]
     },
     "execution_count": 3,
     "metadata": {},
     "output_type": "execute_result"
    }
   ],
   "source": [
    "# LOADING SLEEP\n",
    "\n",
    "# Put uid's in a list\n",
    "uids = studentlife['uid']\n",
    "\n",
    "# Make a new dataframe for each student's sleep data\n",
    "for uid in uids:\n",
    "    # Create new name for df automatically\n",
    "    new_df_name = f'sleep_{uid}'\n",
    "    \n",
    "    # Make new dataframes automatically\n",
    "    exec(f\"{new_df_name} = pd.read_csv(f'data/Sleep_{uid}.csv')\")\n",
    "    \n",
    "\n",
    "sleep_u01.head(6) # Sample sleep data from student u01"
   ]
  },
  {
   "cell_type": "markdown",
   "metadata": {},
   "source": [
    "### Cleaning"
   ]
  },
  {
   "cell_type": "markdown",
   "metadata": {},
   "source": [
    "At this point, each student's sleep data is in its own DataFrame. But there is still some cleaning and reformatting to be done.\n",
    "\n",
    "- We must remove any rows in which the hour is \"NaN\" since it provides no data for the duration of sleep.\n",
    "- We will remove the column titled \"null\" since nearly all the observations are \"NaN\" and it is unclear what this column even measures.\n",
    "- We will remove location data for privacy reasons and response time and social columns for irrelevance."
   ]
  },
  {
   "cell_type": "code",
   "execution_count": 4,
   "metadata": {},
   "outputs": [
    {
     "data": {
      "text/html": [
       "<div>\n",
       "<style scoped>\n",
       "    .dataframe tbody tr th:only-of-type {\n",
       "        vertical-align: middle;\n",
       "    }\n",
       "\n",
       "    .dataframe tbody tr th {\n",
       "        vertical-align: top;\n",
       "    }\n",
       "\n",
       "    .dataframe thead th {\n",
       "        text-align: right;\n",
       "    }\n",
       "</style>\n",
       "<table border=\"1\" class=\"dataframe\">\n",
       "  <thead>\n",
       "    <tr style=\"text-align: right;\">\n",
       "      <th></th>\n",
       "      <th>hour</th>\n",
       "      <th>rate</th>\n",
       "    </tr>\n",
       "  </thead>\n",
       "  <tbody>\n",
       "    <tr>\n",
       "      <th>5</th>\n",
       "      <td>6.0</td>\n",
       "      <td>2.0</td>\n",
       "    </tr>\n",
       "    <tr>\n",
       "      <th>6</th>\n",
       "      <td>7.0</td>\n",
       "      <td>2.0</td>\n",
       "    </tr>\n",
       "    <tr>\n",
       "      <th>7</th>\n",
       "      <td>7.0</td>\n",
       "      <td>2.0</td>\n",
       "    </tr>\n",
       "    <tr>\n",
       "      <th>8</th>\n",
       "      <td>7.0</td>\n",
       "      <td>2.0</td>\n",
       "    </tr>\n",
       "    <tr>\n",
       "      <th>9</th>\n",
       "      <td>10.0</td>\n",
       "      <td>1.0</td>\n",
       "    </tr>\n",
       "  </tbody>\n",
       "</table>\n",
       "</div>"
      ],
      "text/plain": [
       "   hour  rate\n",
       "5   6.0   2.0\n",
       "6   7.0   2.0\n",
       "7   7.0   2.0\n",
       "8   7.0   2.0\n",
       "9  10.0   1.0"
      ]
     },
     "execution_count": 4,
     "metadata": {},
     "output_type": "execute_result"
    }
   ],
   "source": [
    "# CLEANING\n",
    "\n",
    "# Get list of all sleep dataframes\n",
    "all_sleep = %who_ls DataFrame\n",
    "all_sleep.remove('studentlife') # Remove grades since it's not a sleep dataframe\n",
    "\n",
    "# Perform cleaning by iterating through each sleep dataframe\n",
    "for sleep_df in all_sleep:\n",
    "    exec(f\"{sleep_df} = {sleep_df}[['hour', 'rate']]\") # Keep only the 'hour' and 'rate' columns\n",
    "    exec(f\"{sleep_df} = {sleep_df}.dropna()\") # Keep only the rows where both the 'hour' and 'rate' are answered\n",
    "    \n",
    "sleep_u01.head() # View cleaned sample"
   ]
  },
  {
   "cell_type": "markdown",
   "metadata": {},
   "source": [
    "#### Interpreting Answer Values"
   ]
  },
  {
   "cell_type": "markdown",
   "metadata": {},
   "source": [
    "The next issue is decoding the data to better represent the actual hours each student slept for and how they rated it. We are doing this because the numbers under 'hour' are not the actual hours the student slept for. According to the StudentLife Datasets's definitions, the sleep hour responses are coded like so:\n",
    "\n",
    "\n",
    "| 'hour' Answer | Hours Slept |\n",
    "| :----------- | :------------- |\n",
    "| 1 | Less than 3 |\n",
    "| 2 | 3.5 |\n",
    "| 3 | 4 |\n",
    "| 4 | 4.5 |\n",
    "| 5 | 5 |\n",
    "| 6 | 5.5 |\n",
    "| 7 | 6 |\n",
    "| 8 | 6.5 |\n",
    "| 9 | 7 |\n",
    "| 10 | 7.5 |\n",
    "| 11 | 8 |\n",
    "| 12 | 8.5 |\n",
    "| 13 | 9 |\n",
    "| 14 | 9.5 |\n",
    "| 15 | 10 |\n",
    "| 16 | 10.5 |\n",
    "| 17 | 11 |\n",
    "| 18 | 11.5 |\n",
    "| 19 | 12 |\n",
    "\n",
    "| 'rate' Answer | Meaning |\n",
    "| :- | :- |\n",
    "| 1 | Very good |\n",
    "| 2 | Fairly good |\n",
    "| 3 | Fairly bad |\n",
    "| 4 | Very bad |"
   ]
  },
  {
   "cell_type": "markdown",
   "metadata": {},
   "source": [
    "The answer \"Less than 3 hours\" is vague, so we are deciding to numerically represent it as 1.5 hours of sleep."
   ]
  },
  {
   "cell_type": "code",
   "execution_count": 5,
   "metadata": {},
   "outputs": [],
   "source": [
    "# CONVERTING DATA HELPER FUNCTION\n",
    "\n",
    "# Function for converting sleep hour answers\n",
    "def convert_hour(response):\n",
    "    if response == 1:\n",
    "        return 1.5\n",
    "    elif response == 2:\n",
    "        return 3.5\n",
    "    elif response == 3:\n",
    "        return 4\n",
    "    elif response == 4:\n",
    "        return 4.5\n",
    "    elif response == 5:\n",
    "        return 5\n",
    "    elif response == 6:\n",
    "        return 5.5\n",
    "    elif response == 7:\n",
    "        return 6\n",
    "    elif response == 8:\n",
    "        return 6.5\n",
    "    elif response == 9:\n",
    "        return 7\n",
    "    elif response == 10:\n",
    "        return 7.5\n",
    "    elif response == 11:\n",
    "        return 8\n",
    "    elif response == 12:\n",
    "        return 8.5\n",
    "    elif response == 13:\n",
    "        return 9\n",
    "    elif response == 14:\n",
    "        return 9.5\n",
    "    elif response == 15:\n",
    "        return 10\n",
    "    elif response == 16:\n",
    "        return 10.5\n",
    "    elif response == 17:\n",
    "        return 11\n",
    "    elif response == 18:\n",
    "        return 11.5\n",
    "    elif response == 19:\n",
    "        return 12"
   ]
  },
  {
   "cell_type": "code",
   "execution_count": 6,
   "metadata": {},
   "outputs": [],
   "source": [
    "# CONVERT ACTUAL SLEEP HOURS\n",
    "\n",
    "for sleep_df in all_sleep:\n",
    "    exec(f\"{sleep_df}['hour'] = {sleep_df}['hour'].apply(convert_hour)\")"
   ]
  },
  {
   "cell_type": "markdown",
   "metadata": {},
   "source": [
    "<br>\n",
    "\n",
    "#### Merging StudentLife Sleep and GPA Data"
   ]
  },
  {
   "cell_type": "markdown",
   "metadata": {},
   "source": [
    "The next challenge is consolidating the sleep data so that we can compare it alongside the GPA data. An issue we noticed was that the amount of valid sleep logs students completed varied across the board. For example, some students would only have about 20 valid logs and others over 70 valid logs. Due to this, we are choosing to average the amount of sleep recorded and the ratings of sleep for each student.\n",
    "\n",
    "Another metric we will gather is the consistency of sleep duration quantified by the standard deviation of the length of sleep."
   ]
  },
  {
   "cell_type": "code",
   "execution_count": 7,
   "metadata": {},
   "outputs": [],
   "source": [
    "# Get Average of Sleep hours for each student\n",
    "avg_sleep = []\n",
    "for sleep_df in all_sleep:\n",
    "    exec(f\"avg_sleep.append({sleep_df}['hour'].mean())\")\n",
    "    \n",
    "    \n",
    "# Calculate StDev of sleep hours for each student\n",
    "stdev_sleep = []\n",
    "for sleep_df in all_sleep:\n",
    "    exec(f\"stdev_sleep.append(np.std({sleep_df}['hour']))\")"
   ]
  },
  {
   "cell_type": "code",
   "execution_count": 8,
   "metadata": {},
   "outputs": [],
   "source": [
    "# Get average rating of sleep and round to the nearest integer\n",
    "avg_rate = []\n",
    "for sleep_df in all_sleep:\n",
    "    exec(f\"avg_rate.append({sleep_df}['rate'].mean())\")\n",
    "    \n",
    "avg_rate = np.round(avg_rate)"
   ]
  },
  {
   "cell_type": "code",
   "execution_count": 9,
   "metadata": {},
   "outputs": [],
   "source": [
    "# Append new columns to grades dataframe\n",
    "studentlife = studentlife.assign(sleep_avg=avg_sleep)\n",
    "studentlife = studentlife.assign(sleep_stdev=stdev_sleep)\n",
    "studentlife = studentlife.assign(sleep_rate_avg=avg_rate)"
   ]
  },
  {
   "cell_type": "code",
   "execution_count": 10,
   "metadata": {},
   "outputs": [],
   "source": [
    "# Function for converting sleep ratings\n",
    "def convert_rate(response):\n",
    "    if response == 1:\n",
    "        return 'Very good'\n",
    "    if response == 2:\n",
    "        return 'Fairly good'\n",
    "    if response == 3:\n",
    "        return 'Very bad'\n",
    "    if response == 4:\n",
    "        return 'Very bad'\n",
    "    \n",
    "studentlife['sleep_rate_avg'] = studentlife['sleep_rate_avg'].apply(convert_rate)"
   ]
  },
  {
   "cell_type": "code",
   "execution_count": 11,
   "metadata": {},
   "outputs": [
    {
     "data": {
      "text/html": [
       "<div>\n",
       "<style scoped>\n",
       "    .dataframe tbody tr th:only-of-type {\n",
       "        vertical-align: middle;\n",
       "    }\n",
       "\n",
       "    .dataframe tbody tr th {\n",
       "        vertical-align: top;\n",
       "    }\n",
       "\n",
       "    .dataframe thead th {\n",
       "        text-align: right;\n",
       "    }\n",
       "</style>\n",
       "<table border=\"1\" class=\"dataframe\">\n",
       "  <thead>\n",
       "    <tr style=\"text-align: right;\">\n",
       "      <th></th>\n",
       "      <th>uid</th>\n",
       "      <th>cumulative_gpa</th>\n",
       "      <th>term_gpa</th>\n",
       "      <th>class_gpa</th>\n",
       "      <th>sleep_avg_hrs</th>\n",
       "      <th>sleep_stdev_hrs</th>\n",
       "      <th>sleep_rate_avg</th>\n",
       "    </tr>\n",
       "  </thead>\n",
       "  <tbody>\n",
       "    <tr>\n",
       "      <th>0</th>\n",
       "      <td>u01</td>\n",
       "      <td>2.863</td>\n",
       "      <td>1.777778</td>\n",
       "      <td>3.0</td>\n",
       "      <td>6.111111</td>\n",
       "      <td>0.598352</td>\n",
       "      <td>Fairly good</td>\n",
       "    </tr>\n",
       "    <tr>\n",
       "      <th>1</th>\n",
       "      <td>u02</td>\n",
       "      <td>3.505</td>\n",
       "      <td>4.000000</td>\n",
       "      <td>4.0</td>\n",
       "      <td>6.461538</td>\n",
       "      <td>0.553365</td>\n",
       "      <td>Fairly good</td>\n",
       "    </tr>\n",
       "    <tr>\n",
       "      <th>2</th>\n",
       "      <td>u04</td>\n",
       "      <td>3.029</td>\n",
       "      <td>3.500000</td>\n",
       "      <td>4.0</td>\n",
       "      <td>5.735294</td>\n",
       "      <td>0.424183</td>\n",
       "      <td>Fairly good</td>\n",
       "    </tr>\n",
       "    <tr>\n",
       "      <th>3</th>\n",
       "      <td>u05</td>\n",
       "      <td>3.679</td>\n",
       "      <td>3.777778</td>\n",
       "      <td>4.0</td>\n",
       "      <td>6.250000</td>\n",
       "      <td>0.629153</td>\n",
       "      <td>Fairly good</td>\n",
       "    </tr>\n",
       "    <tr>\n",
       "      <th>4</th>\n",
       "      <td>u07</td>\n",
       "      <td>3.474</td>\n",
       "      <td>4.000000</td>\n",
       "      <td>4.0</td>\n",
       "      <td>6.020833</td>\n",
       "      <td>0.529921</td>\n",
       "      <td>Fairly good</td>\n",
       "    </tr>\n",
       "  </tbody>\n",
       "</table>\n",
       "</div>"
      ],
      "text/plain": [
       "   uid  cumulative_gpa  term_gpa  class_gpa  sleep_avg_hrs  sleep_stdev_hrs  \\\n",
       "0  u01           2.863  1.777778        3.0       6.111111         0.598352   \n",
       "1  u02           3.505  4.000000        4.0       6.461538         0.553365   \n",
       "2  u04           3.029  3.500000        4.0       5.735294         0.424183   \n",
       "3  u05           3.679  3.777778        4.0       6.250000         0.629153   \n",
       "4  u07           3.474  4.000000        4.0       6.020833         0.529921   \n",
       "\n",
       "  sleep_rate_avg  \n",
       "0    Fairly good  \n",
       "1    Fairly good  \n",
       "2    Fairly good  \n",
       "3    Fairly good  \n",
       "4    Fairly good  "
      ]
     },
     "execution_count": 11,
     "metadata": {},
     "output_type": "execute_result"
    }
   ],
   "source": [
    "# Renaming columns\n",
    "studentlife.columns = ['uid', 'cumulative_gpa', 'term_gpa', 'class_gpa', 'sleep_avg_hrs', 'sleep_stdev_hrs', 'sleep_rate_avg']\n",
    "studentlife_numericgpa = studentlife.copy()\n",
    "studentlife.head() # Now tidied data!"
   ]
  },
  {
   "cell_type": "markdown",
   "metadata": {},
   "source": [
    "Unfortunately, there were a limited amount of data points from the StudentLife dataset after cleaning and pre-processing, so at this point, we decided to use another dataset with similar variables in order to have more data to work with."
   ]
  },
  {
   "cell_type": "markdown",
   "metadata": {},
   "source": [
    "## CSE Student Performances Dataset"
   ]
  },
  {
   "cell_type": "markdown",
   "metadata": {},
   "source": [
    "This dataset required relatively less pre-processing and cleaning than the StudentLife dataset since all the observations and variables we needed were already in the same .csv file and since all the responses had already been standardized."
   ]
  },
  {
   "cell_type": "markdown",
   "metadata": {},
   "source": [
    "### Importing the Data"
   ]
  },
  {
   "cell_type": "code",
   "execution_count": 12,
   "metadata": {},
   "outputs": [],
   "source": [
    "# Import CSE Student Performances Dataset\n",
    "cse_students = pd.read_csv('data/CSE_student_performances.csv')"
   ]
  },
  {
   "cell_type": "code",
   "execution_count": 13,
   "metadata": {},
   "outputs": [
    {
     "data": {
      "text/html": [
       "<div>\n",
       "<style scoped>\n",
       "    .dataframe tbody tr th:only-of-type {\n",
       "        vertical-align: middle;\n",
       "    }\n",
       "\n",
       "    .dataframe tbody tr th {\n",
       "        vertical-align: top;\n",
       "    }\n",
       "\n",
       "    .dataframe thead th {\n",
       "        text-align: right;\n",
       "    }\n",
       "</style>\n",
       "<table border=\"1\" class=\"dataframe\">\n",
       "  <thead>\n",
       "    <tr style=\"text-align: right;\">\n",
       "      <th></th>\n",
       "      <th>Age</th>\n",
       "      <th>Gender</th>\n",
       "      <th>AcademicPerformance</th>\n",
       "      <th>TakingNoteInClass</th>\n",
       "      <th>DepressionStatus</th>\n",
       "      <th>FaceChallangesToCompleteAcademicTask</th>\n",
       "      <th>LikePresentation</th>\n",
       "      <th>SleepPerDayHours</th>\n",
       "      <th>NumberOfFriend</th>\n",
       "      <th>LikeNewThings</th>\n",
       "    </tr>\n",
       "  </thead>\n",
       "  <tbody>\n",
       "    <tr>\n",
       "      <th>0</th>\n",
       "      <td>23</td>\n",
       "      <td>Male</td>\n",
       "      <td>Average</td>\n",
       "      <td>No</td>\n",
       "      <td>Sometimes</td>\n",
       "      <td>Yes</td>\n",
       "      <td>Yes</td>\n",
       "      <td>12</td>\n",
       "      <td>NaN</td>\n",
       "      <td>Yes</td>\n",
       "    </tr>\n",
       "    <tr>\n",
       "      <th>1</th>\n",
       "      <td>23</td>\n",
       "      <td>Male</td>\n",
       "      <td>Excellent</td>\n",
       "      <td>Sometimes</td>\n",
       "      <td>Yes</td>\n",
       "      <td>No</td>\n",
       "      <td>Yes</td>\n",
       "      <td>8</td>\n",
       "      <td>80.0</td>\n",
       "      <td>Yes</td>\n",
       "    </tr>\n",
       "    <tr>\n",
       "      <th>2</th>\n",
       "      <td>24</td>\n",
       "      <td>Male</td>\n",
       "      <td>Average</td>\n",
       "      <td>No</td>\n",
       "      <td>Sometimes</td>\n",
       "      <td>Sometimes</td>\n",
       "      <td>No</td>\n",
       "      <td>8</td>\n",
       "      <td>10.0</td>\n",
       "      <td>Yes</td>\n",
       "    </tr>\n",
       "    <tr>\n",
       "      <th>3</th>\n",
       "      <td>20</td>\n",
       "      <td>Female</td>\n",
       "      <td>Good</td>\n",
       "      <td>Yes</td>\n",
       "      <td>Sometimes</td>\n",
       "      <td>Yes</td>\n",
       "      <td>No</td>\n",
       "      <td>5</td>\n",
       "      <td>15.0</td>\n",
       "      <td>Yes</td>\n",
       "    </tr>\n",
       "    <tr>\n",
       "      <th>4</th>\n",
       "      <td>24</td>\n",
       "      <td>Female</td>\n",
       "      <td>Average</td>\n",
       "      <td>Yes</td>\n",
       "      <td>Yes</td>\n",
       "      <td>Yes</td>\n",
       "      <td>Yes</td>\n",
       "      <td>5</td>\n",
       "      <td>2.0</td>\n",
       "      <td>Yes</td>\n",
       "    </tr>\n",
       "  </tbody>\n",
       "</table>\n",
       "</div>"
      ],
      "text/plain": [
       "   Age   Gender AcademicPerformance TakingNoteInClass DepressionStatus  \\\n",
       "0    23    Male             Average                No        Sometimes   \n",
       "1    23    Male           Excellent         Sometimes              Yes   \n",
       "2    24    Male             Average                No        Sometimes   \n",
       "3    20  Female                Good               Yes        Sometimes   \n",
       "4    24  Female             Average               Yes              Yes   \n",
       "\n",
       "  FaceChallangesToCompleteAcademicTask LikePresentation  SleepPerDayHours  \\\n",
       "0                                  Yes              Yes                12   \n",
       "1                                   No              Yes                 8   \n",
       "2                            Sometimes               No                 8   \n",
       "3                                  Yes               No                 5   \n",
       "4                                  Yes              Yes                 5   \n",
       "\n",
       "   NumberOfFriend LikeNewThings  \n",
       "0             NaN           Yes  \n",
       "1            80.0           Yes  \n",
       "2            10.0           Yes  \n",
       "3            15.0           Yes  \n",
       "4             2.0           Yes  "
      ]
     },
     "execution_count": 13,
     "metadata": {},
     "output_type": "execute_result"
    }
   ],
   "source": [
    "cse_students.head()"
   ]
  },
  {
   "cell_type": "markdown",
   "metadata": {},
   "source": [
    "### Cleaning"
   ]
  },
  {
   "cell_type": "markdown",
   "metadata": {},
   "source": [
    "The columns that we will keep are Academic Performance and Sleep Per Day Hours. While there are a number of other interesting metrics included in the dataset that could influence Academic Performance, we will stick to the scope of this data science project which is sleep and academic performance."
   ]
  },
  {
   "cell_type": "code",
   "execution_count": 14,
   "metadata": {
    "scrolled": false
   },
   "outputs": [
    {
     "data": {
      "text/html": [
       "<div>\n",
       "<style scoped>\n",
       "    .dataframe tbody tr th:only-of-type {\n",
       "        vertical-align: middle;\n",
       "    }\n",
       "\n",
       "    .dataframe tbody tr th {\n",
       "        vertical-align: top;\n",
       "    }\n",
       "\n",
       "    .dataframe thead th {\n",
       "        text-align: right;\n",
       "    }\n",
       "</style>\n",
       "<table border=\"1\" class=\"dataframe\">\n",
       "  <thead>\n",
       "    <tr style=\"text-align: right;\">\n",
       "      <th></th>\n",
       "      <th>AcademicPerformance</th>\n",
       "      <th>SleepPerDayHours</th>\n",
       "    </tr>\n",
       "  </thead>\n",
       "  <tbody>\n",
       "    <tr>\n",
       "      <th>0</th>\n",
       "      <td>Average</td>\n",
       "      <td>12</td>\n",
       "    </tr>\n",
       "    <tr>\n",
       "      <th>1</th>\n",
       "      <td>Excellent</td>\n",
       "      <td>8</td>\n",
       "    </tr>\n",
       "    <tr>\n",
       "      <th>2</th>\n",
       "      <td>Average</td>\n",
       "      <td>8</td>\n",
       "    </tr>\n",
       "    <tr>\n",
       "      <th>3</th>\n",
       "      <td>Good</td>\n",
       "      <td>5</td>\n",
       "    </tr>\n",
       "    <tr>\n",
       "      <th>4</th>\n",
       "      <td>Average</td>\n",
       "      <td>5</td>\n",
       "    </tr>\n",
       "  </tbody>\n",
       "</table>\n",
       "</div>"
      ],
      "text/plain": [
       "  AcademicPerformance  SleepPerDayHours\n",
       "0             Average                12\n",
       "1           Excellent                 8\n",
       "2             Average                 8\n",
       "3                Good                 5\n",
       "4             Average                 5"
      ]
     },
     "execution_count": 14,
     "metadata": {},
     "output_type": "execute_result"
    }
   ],
   "source": [
    "# Drop columns we don't need in cse_students dataframe\n",
    "cse_students = cse_students[['AcademicPerformance', 'SleepPerDayHours']]\n",
    "cse_students.head()"
   ]
  },
  {
   "cell_type": "code",
   "execution_count": 15,
   "metadata": {},
   "outputs": [
    {
     "data": {
      "text/plain": [
       "AcademicPerformance\n",
       "Average          45\n",
       "Good             41\n",
       "Excellent         9\n",
       "Below average     4\n",
       "Name: count, dtype: int64"
      ]
     },
     "execution_count": 15,
     "metadata": {},
     "output_type": "execute_result"
    }
   ],
   "source": [
    "cse_students['AcademicPerformance'].value_counts()"
   ]
  },
  {
   "cell_type": "code",
   "execution_count": 16,
   "metadata": {},
   "outputs": [
    {
     "data": {
      "text/plain": [
       "cumulative_gpa\n",
       "3.474    2\n",
       "2.815    2\n",
       "2.863    1\n",
       "2.987    1\n",
       "3.389    1\n",
       "Name: count, dtype: int64"
      ]
     },
     "execution_count": 16,
     "metadata": {},
     "output_type": "execute_result"
    }
   ],
   "source": [
    "studentlife['cumulative_gpa'].value_counts().head()"
   ]
  },
  {
   "cell_type": "markdown",
   "metadata": {},
   "source": [
    "### Oh no! Both Datasets Measure Academic Performance Differently"
   ]
  },
  {
   "cell_type": "markdown",
   "metadata": {},
   "source": [
    "The *StudentLife* dataset and the *CSE Students* dataset have different ways of documenting a students' performance. Specifically, *StudentLife* uses numerical data such as GPA (ex. 3.474) while *CSE Students* uses categorical data (ex. \"Excellent\").\n",
    "\n",
    "In order to be able to use the datasets alongside each other, we had to convert one response type to the other. The *StudentLife* dataset was based on students in Dartmouth, so we used their grading scale and keywords to convert the StudentLife dataset's numerical GPAs to descriptive labels.\n",
    "\n",
    "**Dartmouth Grading Scale:** https://www.dartmouth.edu/reg/transcript/grade_descriptions.html"
   ]
  },
  {
   "cell_type": "code",
   "execution_count": 17,
   "metadata": {
    "slideshow": {
     "slide_type": "fragment"
    }
   },
   "outputs": [],
   "source": [
    "# Function to convert GPA to Descriptive Label\n",
    "def gpa_convert(gpa):\n",
    "    if gpa >= 3.6667:\n",
    "        return 'Excellent'\n",
    "    elif gpa < 3.6667 and gpa >= 2.6667:\n",
    "        return 'Good'\n",
    "    elif gpa < 2.6667 and gpa >= 1.6667:\n",
    "        return 'Average'\n",
    "    else:\n",
    "        return 'Below average'"
   ]
  },
  {
   "cell_type": "code",
   "execution_count": 18,
   "metadata": {},
   "outputs": [],
   "source": [
    "# Convert GPAs in studentlife\n",
    "studentlife['cumulative_gpa'] = studentlife['cumulative_gpa'].apply(gpa_convert)\n",
    "studentlife['term_gpa'] = studentlife['term_gpa'].apply(gpa_convert)\n",
    "studentlife['class_gpa'] = studentlife['class_gpa'].apply(gpa_convert)"
   ]
  },
  {
   "cell_type": "code",
   "execution_count": 19,
   "metadata": {},
   "outputs": [
    {
     "data": {
      "text/html": [
       "<div>\n",
       "<style scoped>\n",
       "    .dataframe tbody tr th:only-of-type {\n",
       "        vertical-align: middle;\n",
       "    }\n",
       "\n",
       "    .dataframe tbody tr th {\n",
       "        vertical-align: top;\n",
       "    }\n",
       "\n",
       "    .dataframe thead th {\n",
       "        text-align: right;\n",
       "    }\n",
       "</style>\n",
       "<table border=\"1\" class=\"dataframe\">\n",
       "  <thead>\n",
       "    <tr style=\"text-align: right;\">\n",
       "      <th></th>\n",
       "      <th>uid</th>\n",
       "      <th>cumulative_gpa</th>\n",
       "      <th>term_gpa</th>\n",
       "      <th>class_gpa</th>\n",
       "      <th>sleep_avg_hrs</th>\n",
       "      <th>sleep_stdev_hrs</th>\n",
       "      <th>sleep_rate_avg</th>\n",
       "    </tr>\n",
       "  </thead>\n",
       "  <tbody>\n",
       "    <tr>\n",
       "      <th>0</th>\n",
       "      <td>u01</td>\n",
       "      <td>Good</td>\n",
       "      <td>Average</td>\n",
       "      <td>Good</td>\n",
       "      <td>6.111111</td>\n",
       "      <td>0.598352</td>\n",
       "      <td>Fairly good</td>\n",
       "    </tr>\n",
       "    <tr>\n",
       "      <th>1</th>\n",
       "      <td>u02</td>\n",
       "      <td>Good</td>\n",
       "      <td>Excellent</td>\n",
       "      <td>Excellent</td>\n",
       "      <td>6.461538</td>\n",
       "      <td>0.553365</td>\n",
       "      <td>Fairly good</td>\n",
       "    </tr>\n",
       "    <tr>\n",
       "      <th>2</th>\n",
       "      <td>u04</td>\n",
       "      <td>Good</td>\n",
       "      <td>Good</td>\n",
       "      <td>Excellent</td>\n",
       "      <td>5.735294</td>\n",
       "      <td>0.424183</td>\n",
       "      <td>Fairly good</td>\n",
       "    </tr>\n",
       "    <tr>\n",
       "      <th>3</th>\n",
       "      <td>u05</td>\n",
       "      <td>Excellent</td>\n",
       "      <td>Excellent</td>\n",
       "      <td>Excellent</td>\n",
       "      <td>6.250000</td>\n",
       "      <td>0.629153</td>\n",
       "      <td>Fairly good</td>\n",
       "    </tr>\n",
       "    <tr>\n",
       "      <th>4</th>\n",
       "      <td>u07</td>\n",
       "      <td>Good</td>\n",
       "      <td>Excellent</td>\n",
       "      <td>Excellent</td>\n",
       "      <td>6.020833</td>\n",
       "      <td>0.529921</td>\n",
       "      <td>Fairly good</td>\n",
       "    </tr>\n",
       "  </tbody>\n",
       "</table>\n",
       "</div>"
      ],
      "text/plain": [
       "   uid cumulative_gpa   term_gpa  class_gpa  sleep_avg_hrs  sleep_stdev_hrs  \\\n",
       "0  u01           Good    Average       Good       6.111111         0.598352   \n",
       "1  u02           Good  Excellent  Excellent       6.461538         0.553365   \n",
       "2  u04           Good       Good  Excellent       5.735294         0.424183   \n",
       "3  u05      Excellent  Excellent  Excellent       6.250000         0.629153   \n",
       "4  u07           Good  Excellent  Excellent       6.020833         0.529921   \n",
       "\n",
       "  sleep_rate_avg  \n",
       "0    Fairly good  \n",
       "1    Fairly good  \n",
       "2    Fairly good  \n",
       "3    Fairly good  \n",
       "4    Fairly good  "
      ]
     },
     "execution_count": 19,
     "metadata": {},
     "output_type": "execute_result"
    }
   ],
   "source": [
    "studentlife.head()"
   ]
  },
  {
   "cell_type": "markdown",
   "metadata": {},
   "source": [
    "Note that since **`studentlife`** had multiple types of academic performance listed (cumulative, term, class), we needed to pick only one so that it could be the proper shape to be combined. Though, these additional GPAs could be worth looking into later on.\n",
    "\n",
    "The **`cse_students`** dataset measured the class performance of each student. For this reason, `class_gpa` from **`studentlife`** makes the most sense to use since it is the same variable being observed.\n",
    "\n",
    "Since **`cse_students`** does not have data on the consistency of the sleep or rating of the sleep, we will omit that in the combined data set where we will measure academic performance against hours slept.\n",
    "\n",
    "Now we can combine the two dataframes into one called `sleep_and_school`."
   ]
  },
  {
   "cell_type": "code",
   "execution_count": 20,
   "metadata": {},
   "outputs": [
    {
     "data": {
      "text/html": [
       "<div>\n",
       "<style scoped>\n",
       "    .dataframe tbody tr th:only-of-type {\n",
       "        vertical-align: middle;\n",
       "    }\n",
       "\n",
       "    .dataframe tbody tr th {\n",
       "        vertical-align: top;\n",
       "    }\n",
       "\n",
       "    .dataframe thead th {\n",
       "        text-align: right;\n",
       "    }\n",
       "</style>\n",
       "<table border=\"1\" class=\"dataframe\">\n",
       "  <thead>\n",
       "    <tr style=\"text-align: right;\">\n",
       "      <th></th>\n",
       "      <th>class_gpa</th>\n",
       "      <th>sleep_avg_hrs</th>\n",
       "    </tr>\n",
       "  </thead>\n",
       "  <tbody>\n",
       "    <tr>\n",
       "      <th>0</th>\n",
       "      <td>Good</td>\n",
       "      <td>6.111111</td>\n",
       "    </tr>\n",
       "    <tr>\n",
       "      <th>1</th>\n",
       "      <td>Excellent</td>\n",
       "      <td>6.461538</td>\n",
       "    </tr>\n",
       "    <tr>\n",
       "      <th>2</th>\n",
       "      <td>Excellent</td>\n",
       "      <td>5.735294</td>\n",
       "    </tr>\n",
       "    <tr>\n",
       "      <th>3</th>\n",
       "      <td>Excellent</td>\n",
       "      <td>6.250000</td>\n",
       "    </tr>\n",
       "    <tr>\n",
       "      <th>4</th>\n",
       "      <td>Excellent</td>\n",
       "      <td>6.020833</td>\n",
       "    </tr>\n",
       "    <tr>\n",
       "      <th>...</th>\n",
       "      <td>...</td>\n",
       "      <td>...</td>\n",
       "    </tr>\n",
       "    <tr>\n",
       "      <th>124</th>\n",
       "      <td>Good</td>\n",
       "      <td>6.000000</td>\n",
       "    </tr>\n",
       "    <tr>\n",
       "      <th>125</th>\n",
       "      <td>Good</td>\n",
       "      <td>6.000000</td>\n",
       "    </tr>\n",
       "    <tr>\n",
       "      <th>126</th>\n",
       "      <td>Good</td>\n",
       "      <td>4.000000</td>\n",
       "    </tr>\n",
       "    <tr>\n",
       "      <th>127</th>\n",
       "      <td>Good</td>\n",
       "      <td>10.000000</td>\n",
       "    </tr>\n",
       "    <tr>\n",
       "      <th>128</th>\n",
       "      <td>Average</td>\n",
       "      <td>7.000000</td>\n",
       "    </tr>\n",
       "  </tbody>\n",
       "</table>\n",
       "<p>129 rows × 2 columns</p>\n",
       "</div>"
      ],
      "text/plain": [
       "     class_gpa  sleep_avg_hrs\n",
       "0         Good       6.111111\n",
       "1    Excellent       6.461538\n",
       "2    Excellent       5.735294\n",
       "3    Excellent       6.250000\n",
       "4    Excellent       6.020833\n",
       "..         ...            ...\n",
       "124       Good       6.000000\n",
       "125       Good       6.000000\n",
       "126       Good       4.000000\n",
       "127       Good      10.000000\n",
       "128    Average       7.000000\n",
       "\n",
       "[129 rows x 2 columns]"
      ]
     },
     "execution_count": 20,
     "metadata": {},
     "output_type": "execute_result"
    }
   ],
   "source": [
    "# Renaming columns in cse_students before merging\n",
    "cse_students.columns = ['class_gpa', 'sleep_avg_hrs']\n",
    "sleep_and_school = pd.concat([studentlife[['class_gpa', 'sleep_avg_hrs']], cse_students])\n",
    "sleep_and_school = sleep_and_school.reset_index().drop(axis=1, labels=['index'])\n",
    "sleep_and_school"
   ]
  },
  {
   "cell_type": "code",
   "execution_count": 21,
   "metadata": {},
   "outputs": [
    {
     "data": {
      "text/plain": [
       "class_gpa\n",
       "Good             51\n",
       "Average          46\n",
       "Excellent        27\n",
       "Below average     5\n",
       "Name: count, dtype: int64"
      ]
     },
     "execution_count": 21,
     "metadata": {},
     "output_type": "execute_result"
    }
   ],
   "source": [
    "sleep_and_school['class_gpa'].value_counts()"
   ]
  },
  {
   "cell_type": "markdown",
   "metadata": {},
   "source": [
    "<br>\n",
    "<br>"
   ]
  },
  {
   "cell_type": "markdown",
   "metadata": {},
   "source": [
    "# Results"
   ]
  },
  {
   "cell_type": "markdown",
   "metadata": {},
   "source": [
    "## Exploratory Data Analysis\n",
    "\n",
    "<!-- Carry out whatever EDA you need to for your project.  Because every project will be different we can't really give you much of a template at this point. But please make sure you describe the what and why in text here as well as providing interpretation of results and context. -->\n",
    "In order to accurately assess the correlation between a student's sleep duration and their academic performance, it's crucial that we visualize the results for effective exploratory analysis. We will examine data from both the **`Sleep_and_school`** and **`studentLife`** datasets. Our analysis will focus on the relationship between sleep duration and GPA obtained in their respective classes. Additionally, we will rely on the **`studentLife`** dataset to investigate how other sleep-related factors, such as sleep quality and consistency, impact students' academic achievements positively."
   ]
  },
  {
   "cell_type": "markdown",
   "metadata": {},
   "source": [
    "Prior to diving into our analysis of data, here is a refresher on what gpas fall under the categories of 'Excellent', 'Good', 'Average' & 'Below average'.\n",
    "\n",
    "| Category | GPA Threshold |\n",
    "| :----------- | :------------- |\n",
    "| Excellent | GPA $\\geq$ 3.6667 |\n",
    "| Good |2.6667 $\\leq$ GPA $\\lt$ 3.6667 |\n",
    "| Average | 1.6667 $\\leq$ GPA $\\lt$ 2.6667 |\n",
    "| Below Average | GPA $\\lt$ 1.6667 |"
   ]
  },
  {
   "cell_type": "markdown",
   "metadata": {},
   "source": [
    "## Analysis 1: Impact of Sleep Duration on Academic Performance\n",
    "\n",
    "In this section, we will examine the academic achievement achieved in correlation with the sleep duration of students sourced from our **`sleep_and_school`** dataframe. This dataset is derived from the \"cse_students\" and \"studentlife\" cleaned datasets, utilizing variables such as `class_gpa` and `sleep_avg_hrs`."
   ]
  },
  {
   "cell_type": "code",
   "execution_count": 22,
   "metadata": {},
   "outputs": [
    {
     "data": {
      "image/png": "[encoded data removed]",
      "text/plain": [
       "<Figure size 1080x360 with 1 Axes>"
      ]
     },
     "metadata": {},
     "output_type": "display_data"
    }
   ],
   "source": [
    "# PLOT\n",
    "# Aesthetics\n",
    "plt.figure(figsize=(15, 5))\n",
    "grade_palette = ['#44ce1b', '#bbdb44', '#555', '#111']\n",
    "ax = plt.axes()\n",
    "\n",
    "# Histogram\n",
    "sns.histplot(data=sleep_and_school, x='sleep_avg_hrs', hue='class_gpa', multiple='stack', bins=20, palette=grade_palette, hue_order=['Excellent', 'Good', 'Average', 'Below average'])\n",
    "\n",
    "# Aesthetics\n",
    "plt.xlabel('Sleep Duration (hrs)', color='#595959', size=20)\n",
    "plt.ylabel('Students', color='#595959', size=20)\n",
    "sns.despine(left=True)\n",
    "ax.spines[['bottom', 'left']].set_color('gray')\n",
    "ax.tick_params(colors='gray', which='both', labelsize=15)\n",
    "ax.set_title(f'Most Top Students get LESS than 8 hours of sleep\\n...but so does everyone else', ha='left', x=-0.1, pad=30, fontsize='medium')\n",
    "ax.get_legend().remove()\n",
    "\n",
    "# Annotations\n",
    "plt.annotate('Excellent GPA', xy=(8.5,30), size=10, color='#44ce1b')\n",
    "plt.annotate('Good GPA', xy=(8.5,20), size=10, color='#bbdb44')\n",
    "plt.annotate('Avg GPA', xy=(8.5,10), size=10, color='#555')\n",
    "plt.annotate('Below Avg GPA', xy=(8.5,5), size=10, color='#111')\n",
    "plt.axvline(sleep_and_school[sleep_and_school['class_gpa'] == 'Excellent']['sleep_avg_hrs'].mean(), color='#44ce1b', linestyle='--')\n",
    "plt.axvline(sleep_and_school[sleep_and_school['class_gpa'] == 'Good']['sleep_avg_hrs'].mean(), color='#bbdb44', linestyle='--')\n",
    "plt.axvline(sleep_and_school[sleep_and_school['class_gpa'] == 'Average']['sleep_avg_hrs'].mean(), color='#555', linestyle='--')\n",
    "plt.axvline(sleep_and_school[sleep_and_school['class_gpa'] == 'Below average']['sleep_avg_hrs'].mean(), color='#111', linestyle='--')\n",
    "plt.axvline(sleep_and_school['sleep_avg_hrs'].mean(), color='red', linestyle='--')\n",
    "plt.annotate('Average Sleep Time\\nby GPA Group       →', xy=(3.9,25), size=12, color='#777')\n",
    "                              \n",
    "plt.show()"
   ]
  },
  {
   "cell_type": "markdown",
   "metadata": {},
   "source": [
    "The red dashed line shows the overall average, and every other dashed line is associated with its color group.\n",
    "\n",
    "This graph shows that on average, the people with Excellent and Good GPAs get 6-7 hours of sleep. We can infer that these people are in a certain spot where they are sacrificing or prioritizing other things over sleep and it still leads them to the best GPA because there are people getting less and more sleep but this area gets the best GPA."
   ]
  },
  {
   "cell_type": "markdown",
   "metadata": {},
   "source": [
    "## Analysis 2: Impact of Sleep Duration Consistency on Academic Performance\n",
    "\n",
    "Earlier, we created a column in **`studentlife`** that took the standard deviation of the duration of students' sleep and now we will see if there is any correlation between a lower standard deviation of sleep duration (so higher consistency) and better academic performance. We kept a copy of **`studentlife`** with its numeric values, pre-conversion, in **`studentlife_numericgpa`**."
   ]
  },
  {
   "cell_type": "code",
   "execution_count": 23,
   "metadata": {},
   "outputs": [
    {
     "data": {
      "image/png": "[encoded data removed]",
      "text/plain": [
       "<Figure size 720x360 with 1 Axes>"
      ]
     },
     "metadata": {},
     "output_type": "display_data"
    }
   ],
   "source": [
    "# PLOT\n",
    "plt.figure(figsize=(10, 5))\n",
    "ax = plt.axes()\n",
    "\n",
    "sns.regplot(data=studentlife_numericgpa, x='sleep_stdev_hrs', y='cumulative_gpa')\n",
    "\n",
    "# Aesthetics\n",
    "plt.xlabel('Sleep Standard Deviation (hrs)', color='#595959', size=20)\n",
    "plt.ylabel('GPA', color='#595959', size=20)\n",
    "sns.despine(left=True)\n",
    "ax.spines[['bottom', 'left']].set_color('gray')\n",
    "ax.tick_params(colors='gray', which='both', labelsize=15)\n",
    "ax.set_title(f'No Strong Correlation between Sleep Duration Consistency\\nand Academic Performance', ha='left', x=-0.1, pad=30, fontsize='medium')\n",
    "\n",
    "plt.show()"
   ]
  },
  {
   "cell_type": "markdown",
   "metadata": {},
   "source": [
    "Based on the graph, we can conclude that there is no noticeable relationship between a high GPA and the consistent number of hours a student sleeps. We can interpet this from viewing the all the standard deviation plots are scattered. We are also able to draw that the possibility that students with inconsistent sleep patterns are much capable of achieving grades exceeding a 3.4 GPA."
   ]
  },
  {
   "cell_type": "markdown",
   "metadata": {},
   "source": [
    "#### OLS Regression"
   ]
  },
  {
   "cell_type": "code",
   "execution_count": 24,
   "metadata": {},
   "outputs": [
    {
     "name": "stdout",
     "output_type": "stream",
     "text": [
      "                            OLS Regression Results                            \n",
      "==============================================================================\n",
      "Dep. Variable:         cumulative_gpa   R-squared:                       0.001\n",
      "Model:                            OLS   Adj. R-squared:                 -0.035\n",
      "Method:                 Least Squares   F-statistic:                   0.02698\n",
      "Date:                Thu, 21 Mar 2024   Prob (F-statistic):              0.871\n",
      "Time:                        04:31:04   Log-Likelihood:                -14.388\n",
      "No. Observations:                  30   AIC:                             32.78\n",
      "Df Residuals:                      28   BIC:                             35.58\n",
      "Df Model:                           1                                         \n",
      "Covariance Type:            nonrobust                                         \n",
      "===================================================================================\n",
      "                      coef    std err          t      P>|t|      [0.025      0.975]\n",
      "-----------------------------------------------------------------------------------\n",
      "Intercept           3.4463      0.168     20.545      0.000       3.103       3.790\n",
      "sleep_stdev_hrs    -0.0267      0.163     -0.164      0.871      -0.360       0.306\n",
      "==============================================================================\n",
      "Omnibus:                        3.874   Durbin-Watson:                   1.772\n",
      "Prob(Omnibus):                  0.144   Jarque-Bera (JB):                3.286\n",
      "Skew:                          -0.804   Prob(JB):                        0.193\n",
      "Kurtosis:                       2.793   Cond. No.                         4.31\n",
      "==============================================================================\n",
      "\n",
      "Notes:\n",
      "[1] Standard Errors assume that the covariance matrix of the errors is correctly specified.\n"
     ]
    }
   ],
   "source": [
    "# Linear Regression\n",
    "outcome, predictors = patsy.dmatrices('cumulative_gpa ~ sleep_stdev_hrs', studentlife_numericgpa)\n",
    "model = sm.OLS(outcome, predictors)\n",
    "res_log = model.fit()\n",
    "print(res_log.summary())"
   ]
  },
  {
   "cell_type": "markdown",
   "metadata": {},
   "source": [
    "From the Ordinary Least Squares (OLS) Regression analysis, we observed a p-value of 0.871. This high p-value indicates a high probability that the results we obtained occurred purely by chance. Consequently, this elucidates why, in the line graph depicted above, we perceive scattered points with no discernible relationship between sleep consistency and academic performance."
   ]
  },
  {
   "cell_type": "markdown",
   "metadata": {},
   "source": [
    "## Analysis 3: Impact of Sleep Quality on Academic Performance\n",
    "\n",
    "In this section, we will take a look at the impact of sleep quality on academic performance through the **`studentlife`** dataset through the `gpa` variables and `sleep_rate_avg`."
   ]
  },
  {
   "cell_type": "code",
   "execution_count": 25,
   "metadata": {},
   "outputs": [
    {
     "data": {
      "text/html": [
       "<div>\n",
       "<style scoped>\n",
       "    .dataframe tbody tr th:only-of-type {\n",
       "        vertical-align: middle;\n",
       "    }\n",
       "\n",
       "    .dataframe tbody tr th {\n",
       "        vertical-align: top;\n",
       "    }\n",
       "\n",
       "    .dataframe thead th {\n",
       "        text-align: right;\n",
       "    }\n",
       "</style>\n",
       "<table border=\"1\" class=\"dataframe\">\n",
       "  <thead>\n",
       "    <tr style=\"text-align: right;\">\n",
       "      <th></th>\n",
       "      <th>uid</th>\n",
       "      <th>cumulative_gpa</th>\n",
       "      <th>term_gpa</th>\n",
       "      <th>class_gpa</th>\n",
       "      <th>sleep_avg_hrs</th>\n",
       "      <th>sleep_stdev_hrs</th>\n",
       "      <th>sleep_rate_avg</th>\n",
       "    </tr>\n",
       "  </thead>\n",
       "  <tbody>\n",
       "    <tr>\n",
       "      <th>0</th>\n",
       "      <td>u01</td>\n",
       "      <td>Good</td>\n",
       "      <td>Average</td>\n",
       "      <td>Good</td>\n",
       "      <td>6.111111</td>\n",
       "      <td>0.598352</td>\n",
       "      <td>Fairly good</td>\n",
       "    </tr>\n",
       "    <tr>\n",
       "      <th>1</th>\n",
       "      <td>u02</td>\n",
       "      <td>Good</td>\n",
       "      <td>Excellent</td>\n",
       "      <td>Excellent</td>\n",
       "      <td>6.461538</td>\n",
       "      <td>0.553365</td>\n",
       "      <td>Fairly good</td>\n",
       "    </tr>\n",
       "    <tr>\n",
       "      <th>2</th>\n",
       "      <td>u04</td>\n",
       "      <td>Good</td>\n",
       "      <td>Good</td>\n",
       "      <td>Excellent</td>\n",
       "      <td>5.735294</td>\n",
       "      <td>0.424183</td>\n",
       "      <td>Fairly good</td>\n",
       "    </tr>\n",
       "    <tr>\n",
       "      <th>3</th>\n",
       "      <td>u05</td>\n",
       "      <td>Excellent</td>\n",
       "      <td>Excellent</td>\n",
       "      <td>Excellent</td>\n",
       "      <td>6.250000</td>\n",
       "      <td>0.629153</td>\n",
       "      <td>Fairly good</td>\n",
       "    </tr>\n",
       "    <tr>\n",
       "      <th>4</th>\n",
       "      <td>u07</td>\n",
       "      <td>Good</td>\n",
       "      <td>Excellent</td>\n",
       "      <td>Excellent</td>\n",
       "      <td>6.020833</td>\n",
       "      <td>0.529921</td>\n",
       "      <td>Fairly good</td>\n",
       "    </tr>\n",
       "  </tbody>\n",
       "</table>\n",
       "</div>"
      ],
      "text/plain": [
       "   uid cumulative_gpa   term_gpa  class_gpa  sleep_avg_hrs  sleep_stdev_hrs  \\\n",
       "0  u01           Good    Average       Good       6.111111         0.598352   \n",
       "1  u02           Good  Excellent  Excellent       6.461538         0.553365   \n",
       "2  u04           Good       Good  Excellent       5.735294         0.424183   \n",
       "3  u05      Excellent  Excellent  Excellent       6.250000         0.629153   \n",
       "4  u07           Good  Excellent  Excellent       6.020833         0.529921   \n",
       "\n",
       "  sleep_rate_avg  \n",
       "0    Fairly good  \n",
       "1    Fairly good  \n",
       "2    Fairly good  \n",
       "3    Fairly good  \n",
       "4    Fairly good  "
      ]
     },
     "execution_count": 25,
     "metadata": {},
     "output_type": "execute_result"
    }
   ],
   "source": [
    "studentlife.head()"
   ]
  },
  {
   "cell_type": "markdown",
   "metadata": {},
   "source": [
    "### Class GPA and Sleep Quality"
   ]
  },
  {
   "cell_type": "markdown",
   "metadata": {},
   "source": [
    "In this part, we look at the distribution of students by their sleep quality and class GPA."
   ]
  },
  {
   "cell_type": "code",
   "execution_count": 26,
   "metadata": {},
   "outputs": [],
   "source": [
    "# Proportions of Sleep Quality Rating and Class GPA\n",
    "class_and_sleepqual = studentlife[['class_gpa', 'sleep_rate_avg']].value_counts().reset_index()\n",
    "class_and_sleepqual = class_and_sleepqual.assign(prop=class_and_sleepqual['count'].mul(100/30))"
   ]
  },
  {
   "cell_type": "code",
   "execution_count": 27,
   "metadata": {
    "scrolled": false
   },
   "outputs": [
    {
     "data": {
      "image/png": "[encoded data removed]",
      "text/plain": [
       "<Figure size 576x720 with 1 Axes>"
      ]
     },
     "metadata": {},
     "output_type": "display_data"
    }
   ],
   "source": [
    "# PLOT\n",
    "# Aesthetics\n",
    "plt.figure(figsize=(8,10))\n",
    "grade_palette = ['#44ce1b', '#bbdb44', '#f7e379', '#f2a134']\n",
    "ax = plt.axes()\n",
    "\n",
    "# Plot\n",
    "sns.barplot(data=class_and_sleepqual,y='prop',x='sleep_rate_avg',hue='class_gpa',order=['Very bad', 'Fairly good', 'Very good'],palette=grade_palette)\n",
    "\n",
    "# Aesthetics\n",
    "plt.xlabel('Sleep Quality', color='#595959', size=20)\n",
    "plt.ylabel('% of Students', color='#595959', size=20)\n",
    "sns.despine(left=True)\n",
    "ax.spines[['bottom', 'left']].set_color('gray')\n",
    "ax.tick_params(colors='gray', which='both', labelsize=15)\n",
    "ax.set_title(f'High Performing Students Get Fairly Good Sleep',ha='left',x=-0.15,pad=10,fontsize='medium')\n",
    "ax.get_legend().remove()\n",
    "\n",
    "# Annotations\n",
    "plt.annotate('Excellent GPA', xy=(0.85,50), size=15, color='#44ce1b')\n",
    "plt.annotate('Good GPA', xy=(1.05,20), size=15, color='#bbdb44')\n",
    "plt.annotate('Avg GPA', xy=(1.05,4), size=15, color='#f7e379')\n",
    "plt.annotate('Below Avg GPA', xy=(1.4,0.5), size=15, color='#f2a134')\n",
    "\n",
    "plt.show()"
   ]
  },
  {
   "cell_type": "markdown",
   "metadata": {},
   "source": [
    "This visualization shows us that **most students with excellent or good GPAs get fairly good quality sleep**. Of course there are interesting exceptions to this observation: some students report very bad sleep quality and still perform well while others can report very good quality sleep and still perform below average."
   ]
  },
  {
   "cell_type": "markdown",
   "metadata": {},
   "source": [
    "### Term GPA and Sleep Quality"
   ]
  },
  {
   "cell_type": "markdown",
   "metadata": {},
   "source": [
    "Here, we look at how sleep quality impacts term GPA."
   ]
  },
  {
   "cell_type": "code",
   "execution_count": 28,
   "metadata": {},
   "outputs": [],
   "source": [
    "# Proportions of Sleep Quality Rating and Term GPA\n",
    "term_and_sleepqual = studentlife[['term_gpa', 'sleep_rate_avg']].value_counts().reset_index()\n",
    "term_and_sleepqual = term_and_sleepqual.assign(prop=term_and_sleepqual['count'].mul(100/30))"
   ]
  },
  {
   "cell_type": "code",
   "execution_count": 29,
   "metadata": {
    "scrolled": false
   },
   "outputs": [
    {
     "data": {
      "image/png": "[encoded data removed]",
      "text/plain": [
       "<Figure size 576x720 with 1 Axes>"
      ]
     },
     "metadata": {},
     "output_type": "display_data"
    }
   ],
   "source": [
    "# PLOT\n",
    "# Aesthetics\n",
    "grade_palette = ['#44ce1b', '#bbdb44', '#f7e379', '#f2a134']\n",
    "plt.figure(figsize=(8,10))\n",
    "ax = plt.axes()\n",
    "\n",
    "# Plot\n",
    "sns.barplot(data=term_and_sleepqual,y='prop', x='sleep_rate_avg', hue='term_gpa',order=['Very bad', 'Fairly good', 'Very good'],palette=grade_palette)\n",
    "\n",
    "# Aesthetics\n",
    "plt.xlabel('Sleep Quality', color='#595959', size=20)\n",
    "plt.ylabel('% of Students', color='#595959', size=20)\n",
    "sns.despine(left=True)\n",
    "ax.spines[['bottom', 'left']].set_color('gray')\n",
    "ax.tick_params(colors='gray', which='both', labelsize=15)\n",
    "ax.set_title(f'Term GPA: Good Performance with Fairly Good Sleep',ha='left',x=-0.15,pad=10,fontsize='medium')\n",
    "ax.get_legend().remove()\n",
    "\n",
    "# Annotations\n",
    "plt.annotate('Excellent GPA', xy=(0.85,40), size=15, color='#44ce1b')\n",
    "plt.annotate('Good GPA', xy=(1.05,20), size=15, color='#bbdb44')\n",
    "plt.annotate('Avg GPA', xy=(1.25,4), size=15, color='#f7e379')\n",
    "plt.annotate('Below Avg GPA', xy=(1.43,0.5), size=15, color='#f2a134')\n",
    "\n",
    "plt.show()"
   ]
  },
  {
   "cell_type": "markdown",
   "metadata": {},
   "source": [
    "In this plot as well, **most students with excellent or good GPAs get fairly good quality sleep**. Something that differs from the last plot is that we are seeing more students with Good, Average, and Below Average GPAs. This could indicate that even if a student performed well in in the CS65 class, they could have performed worse in the other classes during the same term. There may be different reasons for this as well: students prioritizing one class over another, stricter or looser grading of different professors, or simply struggling more in other classes."
   ]
  },
  {
   "cell_type": "markdown",
   "metadata": {},
   "source": [
    "Now to extend this, the next analysis is less founded since we do not have the students' sleep data for the entire academic career. However, it is still interesting to look at if we assume that each students' sleep habits have been consistent."
   ]
  },
  {
   "cell_type": "markdown",
   "metadata": {},
   "source": [
    "### Cumulative GPA and Sleep Quality"
   ]
  },
  {
   "cell_type": "code",
   "execution_count": 30,
   "metadata": {},
   "outputs": [],
   "source": [
    "# Proportions of Sleep Quality Rating and Cumulative GPA\n",
    "cumul_and_sleepqual = studentlife[['cumulative_gpa', 'sleep_rate_avg']].value_counts().reset_index()\n",
    "cumul_and_sleepqual = cumul_and_sleepqual.assign(prop=cumul_and_sleepqual['count'].mul(100/30))"
   ]
  },
  {
   "cell_type": "code",
   "execution_count": 31,
   "metadata": {},
   "outputs": [
    {
     "data": {
      "image/png": "[encoded data removed]",
      "text/plain": [
       "<Figure size 576x720 with 1 Axes>"
      ]
     },
     "metadata": {},
     "output_type": "display_data"
    }
   ],
   "source": [
    "# PLOT\n",
    "# Aesthetics\n",
    "grade_palette = ['#44ce1b', '#bbdb44', '#f7e379', '#f2a134']\n",
    "plt.figure(figsize=(8,10))\n",
    "ax = plt.axes()\n",
    "\n",
    "# Plot\n",
    "sns.barplot(data=cumul_and_sleepqual,y='prop', x='sleep_rate_avg', hue='cumulative_gpa',order=['Very bad', 'Fairly good', 'Very good'],palette=grade_palette)\n",
    "\n",
    "# Aesthetics\n",
    "plt.xlabel('Sleep Quality', color='#595959', size=20)\n",
    "plt.ylabel('% of Students', color='#595959', size=20)\n",
    "sns.despine(left=True)\n",
    "ax.spines[['bottom', 'left']].set_color('gray')\n",
    "ax.tick_params(colors='gray', which='both', labelsize=15)\n",
    "ax.set_title(f'Cumulative GPA: Performing Well with Fairly Good\\nor Very Bad Sleep',ha='left',x=-0.15,pad=10,fontsize='medium')\n",
    "ax.get_legend().remove()\n",
    "\n",
    "# Annotations\n",
    "plt.annotate('Excellent GPA', xy=(0.9,55), size=15, color='#44ce1b')\n",
    "plt.annotate('Good GPA', xy=(1.15,20), size=15, color='#bbdb44')\n",
    "plt.annotate('Avg GPA', xy=(1.7,1), size=15, color='#f7e379')\n",
    "\n",
    "plt.show()"
   ]
  },
  {
   "cell_type": "markdown",
   "metadata": {},
   "source": [
    "One thing that separates this graph from the others is that **no one has a below average cumulative GPA**. What this could tell us is that maybe the specific term that the **`studentlife`** dataset recorded was particularly tough for some students who were performing otherwise pretty well throughout their academic careers up to that point. It's understandable that there may have been some obstacles to academic performance such as life circumstances, personal issues, or other changes."
   ]
  },
  {
   "cell_type": "markdown",
   "metadata": {},
   "source": [
    "In summary, the graphs illustrate that **most students with excellent/good GPAs report fairly good sleep quality**. While the graphs for `class`, `term`, and `cumulative` GPAs differ mildly with regards to the distribution of students with average GPA and below average GPA, the common thread is that in all graphs the amount of high-performing students is highest within the \"Fairly good\" sleep quality."
   ]
  },
  {
   "cell_type": "markdown",
   "metadata": {},
   "source": [
    "The results **did not align with our initial hypothesis** that the highest quality sleep (AKA \"Very good\") would lead to the best academic performance. In fact, in all graphs, **no high performing students reported \"very good\" average sleep quality** and **no low performing students reported \"very bad\" average sleep quality**. We were quite suprised by this finding, but there may be some reasons as to why. \n",
    "\n",
    "Firstly, <ins>we took averages</ins> of the sleep ratings and there were not many observations in the **`studentlife`** dataset to begin with.\n",
    "\n",
    "Secondly, <ins>the self-surveys are subjective</ins> since different people have different standards of good or bad sleep. \n",
    "\n",
    "Or lastly, this could signify that <ins>for some students, performing well in school could come at the cost of missing some high-quality sleep and vice versa</ins>. This interpretation may explain how there are students who perform well in school with \"Very Bad\" quality sleep and how there are students with Average and Below Average GPAs who reported \"Very Good\" quality sleep. They made a trade-off between school and sleep to prioritize one to the detriment of the other."
   ]
  },
  {
   "cell_type": "markdown",
   "metadata": {},
   "source": [
    "# Ethics & Privacy"
   ]
  },
  {
   "cell_type": "markdown",
   "metadata": {},
   "source": [
    "The data we used from the StudentLife dataset and CSE Students dataset are biased since they are not an accurate representation of the entire demographics of college students. We noted that within `grades.csv`, all the students had a column for the class grade in a specific class, CS 65 at Dartmouth (Smartphone Programming). In CSE Students, the name made it obvious that it was looking at CSE students. This may indicate that the data is only looking at Computer Science/Computer-Science-interested/students who happend to be taking that course. Furthermore in the StudentLife dataset, the data was collected through an app called *StudentLife* and so the students who participated are ones that had smartphones. StudentLife also only contains Dartmouth students and so excludes students that are elsewhere in the region, country, and world. Much more data would be necessary to make a better informed conclusion on the impact of sleep on academic performance.\n",
    "\n",
    "With regards to data collection concerns, students in the StudentLife study were informed and chose to opt in and respond to prompts and have sensing and tracking data collected for the duration of the Spring 2013 quarter. Since there were data that tied back to specific coordinatees, we removed these during the data cleaning to maintain privacy. Aditionally, students were not identified with any means other than a unique anonymouse id. Similarly, the information in CSE Students was also volunteered through a survey.\n",
    "\n",
    "The results of this study should not be taken as genuine advice for how to improve academic performance on the basis of sleep. And biased as it is, this study is not representative of the sleep patterns of all computer science students. We acknowledge that everyone in the study and reading the study has their own biological clock and sleep needs and do not intend to promote unhealthy and unrealistic sleep patterns."
   ]
  },
  {
   "cell_type": "markdown",
   "metadata": {},
   "source": [
    "# Discussion and Conclusion\n",
    "\n",
    "Prior work have investigated the effects of sleep and cognitive performance broadly across benchmarks assessing for academic performance. Our project aims to dive deeper into this underexplored situation: investigate the latent sleep variables and how they affect academic performance. This work aims to uncover how sleep and academic performance are related through the lens of sleep consistency, duration, and quality of sleep. \n",
    "\n",
    "Though inconclusive, our analyses sheds light on some interesting insights on sleep and academic performance. Through our exploratory analysis, we've uncovered what is most typical: most students don't receive a consistent eight hours of sleep. Though extensive studies have shown the effects of sleep deprivation and sleep quality on various cognitive behaviors, our analysis sheds insufficient light on its correlation to academic performance. High performing students do, according to our data samples, generally have more hours of sleep. We hypothesize that one key factor in academic success is following a consistent sleep routine. As ideal as the magical eight hour sleep schedule is, in practice, students don't consistently receive eight hours of sleep. \n",
    "\n",
    "In our work, we investigated sleep and its relation to academic performance. However, there exists limitations in our work. For one, our studies are conducted on a limited sample of data. This data, itself, has limitations and ethical considerations detailed above. Our analyses also mainly concern different attributes of sleep like duration, consistency, and quality of sleep. We do not account for other factors that may affect academic performance (GPA). Measuring academic performance is done with the Grade Point Average (GPA), which, in itself, also doesn't necessarily accurately represent a student's academic performance. Other factors like emergencies and unexpected turns of events can affect academic performance as measured by the GPA metric.\n",
    "\n",
    "In summary, we conducted a preliminary study analyzing the relationship between sleep and academic performance along a number of axes (i.e. duration, consistency). In our findings, we do not find convincing evidence there is a strong correlation between healthy (good) sleep and strong academic performance. Our studies do, however, hint at the inconsistent nature of many college students. Though incredibly important, sleep is only one of many factors behind a student's academic success. Many students, from our data samples, both academically strong and weak are across the spectrum. Future work may explore larger, more diverse datasets and conduct not only statistical tests on sleep, but perhaps also analyze sleep in the broader context of many other factors like workload, extracurriculars, major, and more."
   ]
  },
  {
   "cell_type": "markdown",
   "metadata": {},
   "source": [
    "# Team Contributions"
   ]
  },
  {
   "cell_type": "markdown",
   "metadata": {},
   "source": [
    "**Katrina:**\n",
    "- Data Cleaning/Processing/Summary; Ethics & Privacy; Analysis 3; All Graphs; Final Video"
   ]
  },
  {
   "cell_type": "markdown",
   "metadata": {},
   "source": [
    "**Luis:**\n",
    "- Data Summary, EDA, Analysis 2: Impact of Sleep..., Analysis 1 Desc., Final Video"
   ]
  },
  {
   "cell_type": "markdown",
   "metadata": {},
   "source": [
    "**Shashank:**\n",
    "- Analysis 1, Dataset Searching, Final Video"
   ]
  },
  {
   "cell_type": "markdown",
   "metadata": {},
   "source": [
    "**Vincent**:\n",
    "- Abstract, Discussion, Conclusion, (dataviz), refining plots, Final Video"
   ]
  },
  {
   "cell_type": "markdown",
   "metadata": {},
   "source": [
    "**Jin:**\n",
    "- Discussion, Conclusion, Plots, Ethics, Final Video\n"
   ]
  }
 ],
 "metadata": {
  "kernelspec": {
   "display_name": "Python 3 (ipykernel)",
   "language": "python",
   "name": "python3"
  },
  "language_info": {
   "codemirror_mode": {
    "name": "ipython",
    "version": 3
   },
   "file_extension": ".py",
   "mimetype": "text/x-python",
   "name": "python",
   "nbconvert_exporter": "python",
   "pygments_lexer": "ipython3",
   "version": "3.9.5"
  }
 },
 "nbformat": 4,
 "nbformat_minor": 2
}
